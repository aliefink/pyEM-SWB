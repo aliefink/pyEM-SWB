{
 "cells": [
  {
   "cell_type": "markdown",
   "metadata": {},
   "source": [
    "### Expectation-Maximization (EM) algorithm using MAP estimation \n",
    "From Wittmann, M. K., Fouragnan, E., Folloni, D., Klein-Flügge, M. C., Chau, B. K., Khamassi, M., & Rushworth, M. F. (2020). Global reward state affects learning and activity in raphe nucleus and anterior insula in monkeys. Nature Communications, 11(1), 3771. https://www.nature.com/articles/s41467-020-17343-w#Sec10 \n",
    "\n",
    "Key points:\n",
    "Negative Log-Likelihood (negll):\n",
    "The negative log-likelihood is a measure of how well the model fits the observed data. It is obtained by taking the negative natural logarithm of the likelihood function. The goal of MLE is to find the parameter values that minimize the negative log-likelihood, effectively maximizing the likelihood of the observed data given the model.\n",
    "\n",
    "Prior Probability (prior_logpdf):\n",
    "The prior probability represents your knowledge or belief about the parameters before observing the data. It is typically based on some prior information or assumptions. In this case, you are using a normal distribution to represent your prior beliefs about the parameters, with mean prior['mu'] and standard deviation np.sqrt(prior['sigma']).\n",
    "\n",
    "MAP Estimation:\n",
    "In MAP estimation, you are incorporating the prior probability into the estimation process. Instead of only maximizing the likelihood (as in MLE), you are maximizing the posterior probability, which combines the likelihood and the prior. Mathematically, MAP estimation can be expressed as: `argmax_{theta} (likelihood(theta | data) * prior(theta))`, where theta represents the model parameters\n",
    "\n",
    "We are effectively combining the likelihood and the prior in a way that biases the parameter estimation towards the prior beliefs. Since we are maximizing this combined term, we are seeking parameter values that not only fit the data well (as indicated by the negll) but also align with the prior probability distribution."
   ]
  },
  {
   "cell_type": "code",
   "execution_count": 3,
   "metadata": {},
   "outputs": [],
   "source": [
    "%load_ext autoreload\n",
    "%autoreload 2"
   ]
  },
  {
   "cell_type": "code",
   "execution_count": 29,
   "metadata": {},
   "outputs": [],
   "source": [
    "import pandas as pd, numpy as np, matplotlib.pyplot as plt\n",
    "import seaborn as sns, pickle, os, itertools, datetime\n",
    "from copy import deepcopy\n",
    "from scipy.optimize import minimize\n",
    "from scipy.stats import norm, multivariate_normal, beta, gamma\n",
    "import sys\n",
    "sys.path.append('../')\n",
    "from pyEM.fitting import expectation_step, EMfit\n",
    "from pyEM.math import *\n",
    "from pyEM import plotting\n",
    "from joblib import Parallel, delayed\n",
    "from tqdm import tqdm"
   ]
  },
  {
   "cell_type": "code",
   "execution_count": 5,
   "metadata": {},
   "outputs": [
    {
     "name": "stderr",
     "output_type": "stream",
     "text": [
      "100%|██████████| 150/150 [00:00<00:00, 7893.23it/s]\n"
     ]
    }
   ],
   "source": [
    "nsubjects = 150\n",
    "betamax = 10\n",
    "betamin = .5\n",
    "alphamax = 1\n",
    "alphamin = 0\n",
    "\n",
    "params = np.ones((nsubjects, 2))\n",
    "\n",
    "for simS in tqdm(range(nsubjects)):\n",
    "    params[simS, 0] = norm.rvs(0, scale=1)\n",
    "    while params[simS, 0] > betamax or params[simS, 0] < betamin:\n",
    "        params[simS, 0] = norm2beta(norm.rvs(0, scale=1))\n",
    "\n",
    "    params[simS, 1] = norm.rvs(0, 1)\n",
    "    while params[simS, 1] > alphamax or params[simS, 1] < alphamin:\n",
    "        params[simS, 1] = norm2alpha(norm.rvs(0, 1))"
   ]
  },
  {
   "cell_type": "code",
   "execution_count": 6,
   "metadata": {},
   "outputs": [
    {
     "data": {
      "image/png": "[encoded data removed]",
      "text/plain": [
       "<Figure size 1000x500 with 2 Axes>"
      ]
     },
     "metadata": {},
     "output_type": "display_data"
    }
   ],
   "source": [
    "# plot 2 x 1 \n",
    "plt.figure(figsize=(10, 5))\n",
    "plt.subplot(121)\n",
    "plt.hist(params[:,0]);\n",
    "plt.title(f'beta - min: {min(params[:,0]):.2f}, max: {max(params[:,0]):.2f}');\n",
    "\n",
    "plt.subplot(122)\n",
    "plt.hist(params[:,1]);\n",
    "plt.title(f'alpha - min: {min(params[:,1]):.2f}, max: {max(params[:,1]):.2f}');"
   ]
  },
  {
   "cell_type": "code",
   "execution_count": 7,
   "metadata": {},
   "outputs": [],
   "source": [
    "def sim_RW(params, nblocks=3, ntrials=24, outcomes=None, norm2par=False):\n",
    "    \"\"\"\n",
    "    Simulate the basic RW model.\n",
    "\n",
    "    Args:\n",
    "        `params` is a np.array of shape (nsubjects, nparams)\n",
    "        `nblocks` is the number of blocks to simulate\n",
    "        `ntrials` is the number of trials per block\n",
    "    \n",
    "    Returns:\n",
    "        `simulated_dict` is a dictionary with the simulated data with the following keys:\n",
    "            - `ev` is a np.array of shape (nsubjects, nblocks, ntrials+1, 2)\n",
    "            - `ch_prob` is a np.array of shape (nsubjects, nblocks, ntrials, 2)\n",
    "            - `choices` is a np.array of shape (nsubjects, nblocks, ntrials)\n",
    "            - `choices_A` is a np.array of shape (nsubjects, nblocks, ntrials)\n",
    "            - `rewards` is a np.array of shape (nsubjects, nblocks, ntrials)\n",
    "            - `pe` is a np.array of shape (nsubjects, nblocks, ntrials)\n",
    "            - `choice_nll` is a np.array of shape (nsubjects, nblocks, ntrials)\n",
    "            - `params` is a np.array of the parameters used to simulate the data\n",
    "                - `beta` is the softmax inverse temperature\n",
    "                - `lr` is the learning rate\n",
    "\n",
    "    \"\"\"\n",
    "\n",
    "    reverse     = 0\n",
    "    nsubjects   = params.shape[0]\n",
    "    ev          = np.zeros((nsubjects, nblocks, ntrials+1, 2))\n",
    "    ch_prob     = np.zeros((nsubjects, nblocks, ntrials,   2))\n",
    "    choices     = np.empty((nsubjects, nblocks, ntrials,), dtype='object')\n",
    "    choices_A   = np.zeros((nsubjects, nblocks, ntrials,))\n",
    "    rewards     = np.zeros((nsubjects, nblocks, ntrials,))\n",
    "    pe          = np.zeros((nsubjects, nblocks, ntrials,))\n",
    "    choice_nll  = np.zeros((nsubjects, nblocks, ntrials,))\n",
    "\n",
    "    subj_dict = {}\n",
    "    this_block_probs = [.8,.2]\n",
    "    for subj_idx in tqdm(range(nsubjects)):\n",
    "        beta, lr = params[subj_idx,:] \n",
    "        if norm2par:\n",
    "            beta = norm2beta(beta, maxval=10)\n",
    "            lr   = norm2alpha(lr) \n",
    "            \n",
    "        for b in range(nblocks): # if nblocks == 1, then use reversals\n",
    "            for t in range(ntrials):\n",
    "                if nblocks == 1:\n",
    "                    if (t+1) in [12, 24, 36 ,48, 60, 72, 84, 96, 108, 120]: # reverse\n",
    "                        this_block_probs = this_block_probs[::-1]\n",
    "                        if reverse == 1:\n",
    "                            reverse = 0\n",
    "                        elif reverse == 0:\n",
    "                            reverse = 1\n",
    "\n",
    "                if t == 0:\n",
    "                    ev[subj_idx, b, t,:]    = [.5,.5]\n",
    "\n",
    "                # calculate choice probability\n",
    "                ch_prob[subj_idx, b, t,:] = softmax(ev[subj_idx, b, t, :], beta)\n",
    "\n",
    "                # make choice\n",
    "                choices[subj_idx, b, t]   = np.random.choice(['A', 'B'], \n",
    "                                                size=1, \n",
    "                                                p=ch_prob[subj_idx, b, t,:])[0]\n",
    "\n",
    "                # get choice index\n",
    "                if choices[subj_idx, b, t] == 'A':\n",
    "                    c = 0\n",
    "                    choices_A[subj_idx, b, t] = 1\n",
    "                    # get outcome\n",
    "                    if outcomes is None:\n",
    "                        rewards[subj_idx, b, t]   = np.random.choice([1, 0], \n",
    "                                                        size=1, \n",
    "                                                        p=this_block_probs)[0]\n",
    "                    else:\n",
    "                        rewards[subj_idx, b, t]   = outcomes[b, t, c]\n",
    "                else:\n",
    "                    c = 1\n",
    "                    choices_A[subj_idx, b, t] = 0\n",
    "                    # get outcome\n",
    "                    if outcomes is None:\n",
    "                        rewards[subj_idx, b, t]   = np.random.choice([1, 0], \n",
    "                                                        size=1, \n",
    "                                                        p=this_block_probs[::-1])[0]\n",
    "                    else:\n",
    "                        rewards[subj_idx, b, t]   = outcomes[b, t, c]\n",
    "\n",
    "                # calculate PE\n",
    "                pe[subj_idx, b, t] = rewards[subj_idx, b, t] - ev[subj_idx, b, t, c]\n",
    "\n",
    "                # update EV\n",
    "                ev[subj_idx, b, t+1, :] = ev[subj_idx, b, t, :].copy()\n",
    "                ev[subj_idx, b, t+1, c] = ev[subj_idx, b, t, c] + (lr * pe[subj_idx, b, t])\n",
    "                \n",
    "                choice_nll[subj_idx, b, t] = ch_prob[subj_idx, b, t, c].copy()\n",
    "\n",
    "    # store params\n",
    "    subj_dict = {'params'    : params,\n",
    "                 'ev'        : ev, \n",
    "                 'ch_prob'   : ch_prob, \n",
    "                 'choices'   : choices, \n",
    "                 'choices_A' : choices_A, \n",
    "                 'rewards'   : rewards, \n",
    "                 'pe'        : pe, \n",
    "                 'choice_nll': choice_nll}\n",
    "\n",
    "    return subj_dict"
   ]
  },
  {
   "cell_type": "code",
   "execution_count": 8,
   "metadata": {},
   "outputs": [
    {
     "name": "stdout",
     "output_type": "stream",
     "text": [
      "ntrials: 24, nblocks: 6\n"
     ]
    },
    {
     "name": "stderr",
     "output_type": "stream",
     "text": [
      "100%|██████████| 150/150 [00:01<00:00, 80.07it/s]\n"
     ]
    }
   ],
   "source": [
    "for ntrials, nblocks in [(24, 6)]:\n",
    "    print(f'ntrials: {ntrials}, nblocks: {nblocks}')\n",
    "\n",
    "    subj_dict = sim_RW(params, nblocks=nblocks, ntrials=ntrials, norm2par=False)"
   ]
  },
  {
   "cell_type": "code",
   "execution_count": 9,
   "metadata": {},
   "outputs": [
    {
     "name": "stdout",
     "output_type": "stream",
     "text": [
      "dict_keys(['params', 'ev', 'ch_prob', 'choices', 'choices_A', 'rewards', 'pe', 'choice_nll'])\n"
     ]
    }
   ],
   "source": [
    "print(subj_dict.keys())"
   ]
  },
  {
   "cell_type": "code",
   "execution_count": 10,
   "metadata": {},
   "outputs": [
    {
     "data": {
      "image/png": "[encoded data removed]",
      "text/plain": [
       "<Figure size 640x480 with 1 Axes>"
      ]
     },
     "metadata": {},
     "output_type": "display_data"
    }
   ],
   "source": [
    "plotting.plot_choices(subj_dict['choices_A']) "
   ]
  },
  {
   "cell_type": "code",
   "execution_count": 14,
   "metadata": {},
   "outputs": [],
   "source": [
    "def fit_RW(params, choices, rewards, prior=None, output='npl'):\n",
    "    ''' \n",
    "    Fit the basic RW model to a single subject's data.\n",
    "        choices is a np.array with \"A\" or \"B\" for each trial\n",
    "        rewards is a np.array with 1 (cue) or 0 (no cue) for each trial\n",
    "        output is a string that specifies what to return (either 'nll' or 'all')\n",
    "    '''\n",
    "    beta, lr = params \n",
    "    beta = norm2beta(beta)\n",
    "    lr   = norm2alpha(lr) \n",
    "    \n",
    "    # make sure params are in range\n",
    "    alpha_bounds = [0, 1]\n",
    "    if lr < min(alpha_bounds) or lr > max(alpha_bounds):\n",
    "        # print(f'lr = {i_alpha:.3f} not in range')\n",
    "        return 10000000\n",
    "    beta_bounds = [0.00001, 25]\n",
    "    if beta < min(beta_bounds) or beta > max(beta_bounds):\n",
    "        # print(f'beta = {beta:.3f} not in range')\n",
    "        return 10000000\n",
    "\n",
    "    nblocks, ntrials = rewards.shape\n",
    "\n",
    "    ev          = np.zeros((nblocks, ntrials+1, 2))\n",
    "    ch_prob     = np.zeros((nblocks, ntrials,   2))\n",
    "    choices_A   = np.zeros((nblocks, ntrials,))\n",
    "    pe          = np.zeros((nblocks, ntrials,))\n",
    "    choice_nll  = 0\n",
    "\n",
    "    for b in range(nblocks): #if nblocks==1, use reversals\n",
    "        for t in range(ntrials):\n",
    "            if t == 0:\n",
    "                ev[b, t,:]    = [.5, .5]\n",
    "\n",
    "            # get choice index\n",
    "            if choices[b, t] == 'A':\n",
    "                c = 0\n",
    "                choices_A[b, t] = 1\n",
    "            else:\n",
    "                c = 1\n",
    "                choices_A[b, t] = 0\n",
    "\n",
    "            # calculate choice probability\n",
    "            ch_prob[b, t,:] = softmax(ev[b, t, :], beta)\n",
    "            \n",
    "            # calculate PE\n",
    "            pe[b, t] = rewards[b, t] - ev[b, t, c]\n",
    "\n",
    "            # update EV\n",
    "            ev[b, t+1, :] = ev[b, t, :].copy()\n",
    "            ev[b, t+1, c] = ev[b, t, c] + (lr * pe[b, t])\n",
    "            \n",
    "            # add to sum of choice nll for the block\n",
    "            choice_nll += -np.log(ch_prob[b, t, c])\n",
    "        \n",
    "    # get the total negative log likelihood\n",
    "    negll = choice_nll\n",
    "    \n",
    "    if output == 'npl':\n",
    "        if prior is not None:  # EM-fit: P(Choices | h) * P(h | O) should be maximised, therefore same as minimizing it with negative sign\n",
    "            fval = -(-negll + prior['logpdf'](params))\n",
    "\n",
    "            if any(prior['sigma'] == 0):\n",
    "                this_mu = prior['mu']\n",
    "                this_sigma = prior['sigma']\n",
    "                this_logprior = prior['logpdf'](params)\n",
    "                print(f'mu: {this_mu}')\n",
    "                print(f'sigma: {this_sigma}')\n",
    "                print(f'logpdf: {this_logprior}')\n",
    "                print(f'fval: {fval}')\n",
    "            \n",
    "            if np.isinf(fval):\n",
    "                fval = 10000000\n",
    "            return fval\n",
    "        else: # NLL fit \n",
    "            return negll\n",
    "        \n",
    "    elif output == 'all':\n",
    "        subj_dict = {'params'     : [beta, lr],\n",
    "                     'ev'         : ev, \n",
    "                     'ch_prob'    : ch_prob, \n",
    "                     'choices'    : choices, \n",
    "                     'choices_A'  : choices_A, \n",
    "                     'rewards'    : rewards, \n",
    "                     'pe'         : pe, \n",
    "                     'negll'      : negll,\n",
    "                     'BIC'        : 8 * np.log(ntrials*nblocks) + 2*negll}\n",
    "        return subj_dict"
   ]
  },
  {
   "cell_type": "code",
   "execution_count": 34,
   "metadata": {},
   "outputs": [],
   "source": [
    "param_bounds = ((0.0001, betamax), # beta\n",
    "                (0, 1))       # lr\n",
    "\n",
    "# create a list of lists with choices and rewards for each subject\n",
    "all_data = []\n",
    "for idx, (choices, rewards) in enumerate(zip(subj_dict['choices'], subj_dict['rewards'])):\n",
    "    all_data += [[choices, rewards]]"
   ]
  },
  {
   "cell_type": "code",
   "execution_count": 35,
   "metadata": {},
   "outputs": [
    {
     "name": "stdout",
     "output_type": "stream",
     "text": [
      "14819.511 (000), 13237.121 (001), 13182.744 (002), 13173.014 (003), 13166.493 (004), "
     ]
    }
   ],
   "source": [
    "m, h, posterior, NPL, NLPrior, NLL = EMfit(all_data, fit_RW, param_bounds)"
   ]
  },
  {
   "cell_type": "code",
   "execution_count": null,
   "metadata": {},
   "outputs": [],
   "source": [
    " # get covariance matrix\n",
    "_, _, _, covmat_out = compGauss_ms(m,h,2)\n",
    "\n",
    "# Fill in general information\n",
    "modout = {}\n",
    "modelID = 'RW'\n",
    "modout[modelID] = {}\n",
    "modout[modelID]['date'] = datetime.date.today().strftime('%Y%m%d')\n",
    "modout[modelID]['behaviour'] = subj_dict  # copy behaviour here, just in case\n",
    "\n",
    "# Fill in fit information\n",
    "real_params = m.T.copy()\n",
    "for subj_idx in range(nsubjects):\n",
    "    real_params[subj_idx, 0] =   norm2beta(m[0, subj_idx]) # beta\n",
    "    real_params[subj_idx, 1] =  norm2alpha(m[1, subj_idx]) # lr\n",
    "\n",
    "modout[modelID]['fit'] = {}\n",
    "modout[modelID]['fit']['norm_params'] = m\n",
    "modout[modelID]['fit']['params'] = real_params\n",
    "modout[modelID]['fit']['param_names'] = ['beta', 'lr']\n",
    "modout[modelID]['fit']['inverse_hess'] = h\n",
    "modout[modelID]['fit']['gauss.mu'] = posterior['mu']\n",
    "modout[modelID]['fit']['gauss.sigma'] = posterior['sigma']\n",
    "modout[modelID]['fit']['gauss.cov'] = covmat_out\n",
    "try:\n",
    "    modout[modelID]['fit']['gauss.corr'] = np.corrcoef(covmat_out)\n",
    "except:\n",
    "    print('covariance mat not square, symmetric, or positive semi-definite')\n",
    "    modout[modelID]['fit']['gauss.corr'] = np.eye(nparams)\n",
    "modout[modelID]['fit']['npl'] = NPL  # note: this is the negative joint posterior likelihood\n",
    "modout[modelID]['fit']['NLPrior'] = NLPrior\n",
    "modout[modelID]['fit']['nll'] = NPL - NLPrior\n",
    "modout[modelID]['fit']['aic'] = 2*nparams + 2*modout[modelID]['fit']['nll']\n",
    "modout[modelID]['fit']['bic'] = np.log(ntrials*nblocks)*nparams + 2*modout[modelID]['fit']['nll']\n",
    "modout[modelID]['fit']['lme'] = []\n",
    "modout[modelID]['fit']['convCrit'] = convCrit\n",
    "\n",
    "# Make sure you know if BIC is positive or negative! and replace lme with\n",
    "# bic if covariance is negative.\n",
    "# Error check that BICs are in a similar range\n",
    "# Get subject specifics\n",
    "goodHessian = np.zeros(nsubjects)\n",
    "modout[modelID]['fit']['ev']          = np.zeros((nsubjects, nblocks, ntrials+1, 2))\n",
    "modout[modelID]['fit']['ch_prob']     = np.zeros((nsubjects, nblocks, ntrials,   2))\n",
    "modout[modelID]['fit']['choices']     = np.empty((nsubjects, nblocks, ntrials,), dtype='object')\n",
    "modout[modelID]['fit']['choices_A']   = np.zeros((nsubjects, nblocks, ntrials,))\n",
    "modout[modelID]['fit']['rewards']     = np.zeros((nsubjects, nblocks, ntrials,))\n",
    "modout[modelID]['fit']['pe']          = np.zeros((nsubjects, nblocks, ntrials,))\n",
    "modout[modelID]['fit']['negll']       = np.zeros((nsubjects,))\n",
    "\n",
    "# Inserted this Jan 2020: Pat & Miriam from mfit_optimize_hierarchical.m from Sam Gershman\n",
    "for subj_idx in range(nsubjects):\n",
    "    try:\n",
    "        det_inv_hessian = np.linalg.det(h[:, :, subj_idx])\n",
    "        hHere = np.linalg.slogdet(h[:, :, subj_idx])[1]\n",
    "        L = -NPL - 0.5 * np.log(1 / det_inv_hessian) + (nparams / 2) * np.log(2 * np.pi)\n",
    "        goodHessian[subj_idx] = 1\n",
    "    except:\n",
    "        print('Hessian is not positive definite')\n",
    "        try:\n",
    "            hHere = np.linalg.slogdet(h[:,:,subj_idx])[1]\n",
    "            L = np.nan\n",
    "            goodHessian[subj_idx] = 0\n",
    "        except:\n",
    "            print('could not calculate')\n",
    "            goodHessian[subj_idx] = -1\n",
    "            L = np.nan\n",
    "    modout[modelID]['fit']['lme'] = L\n",
    "    modout[modelID]['fit']['goodHessian'] = goodHessian\n",
    "\n",
    "    # Get subjectwise model predictions# get info for current subject\n",
    "    choices = subj_dict['choices'][subj_idx,:,:]\n",
    "    rewards = subj_dict['rewards'][subj_idx,:,:]\n",
    "    \n",
    "    model_fits = fit_RW(m[:,subj_idx], choices, rewards, prior=None, output='all')\n",
    "\n",
    "    # store model fits\n",
    "    modout[modelID]['fit']['ev'][subj_idx,:,:,:] = model_fits['ev']\n",
    "    modout[modelID]['fit']['ch_prob'][subj_idx,:,:,:] = model_fits['ch_prob']\n",
    "    modout[modelID]['fit']['choices'][subj_idx,:,:] = model_fits['choices']\n",
    "    modout[modelID]['fit']['choices_A'][subj_idx,:,:] = model_fits['choices_A']\n",
    "    modout[modelID]['fit']['rewards'][subj_idx,:,:] = model_fits['rewards']\n",
    "    modout[modelID]['fit']['pe'][subj_idx,:,:] = model_fits['pe']\n",
    "    modout[modelID]['fit']['negll'][subj_idx] = model_fits['negll']\n",
    "\n",
    "# Save output\n",
    "# with open(f'{save_dir}/emfit_ntrials-{ntrials}_nblocks-{nblocks}_nsubjects-{nsubjects}.pkl', 'wb') as f:\n",
    "#     pickle.dump(modout, f)"
   ]
  },
  {
   "cell_type": "code",
   "execution_count": null,
   "metadata": {},
   "outputs": [
    {
     "ename": "ValueError",
     "evalue": "arrays must all be same length",
     "output_type": "error",
     "traceback": [
      "\u001b[1;31m---------------------------------------------------------------------------\u001b[0m",
      "\u001b[1;31mValueError\u001b[0m                                Traceback (most recent call last)",
      "\u001b[1;32m~\\AppData\\Local\\Temp\\ipykernel_14064\\4292431377.py\u001b[0m in \u001b[0;36m<module>\u001b[1;34m\u001b[0m\n\u001b[0;32m      3\u001b[0m     \u001b[0mfitted_params\u001b[0m \u001b[1;33m=\u001b[0m \u001b[0mreal_params\u001b[0m\u001b[1;33m[\u001b[0m\u001b[1;33m:\u001b[0m\u001b[1;33m,\u001b[0m\u001b[0mparam_idx\u001b[0m\u001b[1;33m]\u001b[0m\u001b[1;33m\u001b[0m\u001b[1;33m\u001b[0m\u001b[0m\n\u001b[0;32m      4\u001b[0m     plotting.plot_scatter(simulated_param, f'Simulated {param_label}', \n\u001b[1;32m----> 5\u001b[1;33m                  fitted_params, f'Estimated {param_label}')\n\u001b[0m",
      "\u001b[1;32mc:\\Users\\Shawn\\Documents\\Python\\pyEM\\pyEM\\plotting.py\u001b[0m in \u001b[0;36mplot_scatter\u001b[1;34m(x, xlabel, y, ylabel, filename)\u001b[0m\n\u001b[0;32m     42\u001b[0m         \u001b[0;31m`\u001b[0m\u001b[0mylabel\u001b[0m\u001b[0;31m`\u001b[0m \u001b[1;32mis\u001b[0m \u001b[0ma\u001b[0m \u001b[0mstring\u001b[0m \u001b[1;32mwith\u001b[0m \u001b[0mthe\u001b[0m \u001b[0my\u001b[0m\u001b[1;33m-\u001b[0m\u001b[0maxis\u001b[0m \u001b[0mlabel\u001b[0m\u001b[1;33m\u001b[0m\u001b[1;33m\u001b[0m\u001b[0m\n\u001b[0;32m     43\u001b[0m     \"\"\"\n\u001b[1;32m---> 44\u001b[1;33m     \u001b[0mdf\u001b[0m \u001b[1;33m=\u001b[0m \u001b[0mpd\u001b[0m\u001b[1;33m.\u001b[0m\u001b[0mDataFrame\u001b[0m\u001b[1;33m(\u001b[0m\u001b[1;33m{\u001b[0m\u001b[0mxlabel\u001b[0m\u001b[1;33m:\u001b[0m\u001b[0mx\u001b[0m\u001b[1;33m,\u001b[0m \u001b[0mylabel\u001b[0m\u001b[1;33m:\u001b[0m\u001b[0my\u001b[0m\u001b[1;33m}\u001b[0m\u001b[1;33m)\u001b[0m\u001b[1;33m\u001b[0m\u001b[1;33m\u001b[0m\u001b[0m\n\u001b[0m\u001b[0;32m     45\u001b[0m \u001b[1;33m\u001b[0m\u001b[0m\n\u001b[0;32m     46\u001b[0m     \u001b[1;31m# Plot a pointplot of Mean Loneliness as a function of Depression\u001b[0m\u001b[1;33m\u001b[0m\u001b[1;33m\u001b[0m\u001b[1;33m\u001b[0m\u001b[0m\n",
      "\u001b[1;32m~\\AppData\\Roaming\\Python\\Python37\\site-packages\\pandas\\core\\frame.py\u001b[0m in \u001b[0;36m__init__\u001b[1;34m(self, data, index, columns, dtype, copy)\u001b[0m\n\u001b[0;32m    466\u001b[0m \u001b[1;33m\u001b[0m\u001b[0m\n\u001b[0;32m    467\u001b[0m         \u001b[1;32melif\u001b[0m \u001b[0misinstance\u001b[0m\u001b[1;33m(\u001b[0m\u001b[0mdata\u001b[0m\u001b[1;33m,\u001b[0m \u001b[0mdict\u001b[0m\u001b[1;33m)\u001b[0m\u001b[1;33m:\u001b[0m\u001b[1;33m\u001b[0m\u001b[1;33m\u001b[0m\u001b[0m\n\u001b[1;32m--> 468\u001b[1;33m             \u001b[0mmgr\u001b[0m \u001b[1;33m=\u001b[0m \u001b[0minit_dict\u001b[0m\u001b[1;33m(\u001b[0m\u001b[0mdata\u001b[0m\u001b[1;33m,\u001b[0m \u001b[0mindex\u001b[0m\u001b[1;33m,\u001b[0m \u001b[0mcolumns\u001b[0m\u001b[1;33m,\u001b[0m \u001b[0mdtype\u001b[0m\u001b[1;33m=\u001b[0m\u001b[0mdtype\u001b[0m\u001b[1;33m)\u001b[0m\u001b[1;33m\u001b[0m\u001b[1;33m\u001b[0m\u001b[0m\n\u001b[0m\u001b[0;32m    469\u001b[0m         \u001b[1;32melif\u001b[0m \u001b[0misinstance\u001b[0m\u001b[1;33m(\u001b[0m\u001b[0mdata\u001b[0m\u001b[1;33m,\u001b[0m \u001b[0mma\u001b[0m\u001b[1;33m.\u001b[0m\u001b[0mMaskedArray\u001b[0m\u001b[1;33m)\u001b[0m\u001b[1;33m:\u001b[0m\u001b[1;33m\u001b[0m\u001b[1;33m\u001b[0m\u001b[0m\n\u001b[0;32m    470\u001b[0m             \u001b[1;32mimport\u001b[0m \u001b[0mnumpy\u001b[0m\u001b[1;33m.\u001b[0m\u001b[0mma\u001b[0m\u001b[1;33m.\u001b[0m\u001b[0mmrecords\u001b[0m \u001b[1;32mas\u001b[0m \u001b[0mmrecords\u001b[0m\u001b[1;33m\u001b[0m\u001b[1;33m\u001b[0m\u001b[0m\n",
      "\u001b[1;32m~\\AppData\\Roaming\\Python\\Python37\\site-packages\\pandas\\core\\internals\\construction.py\u001b[0m in \u001b[0;36minit_dict\u001b[1;34m(data, index, columns, dtype)\u001b[0m\n\u001b[0;32m    281\u001b[0m             \u001b[0marr\u001b[0m \u001b[1;32mif\u001b[0m \u001b[1;32mnot\u001b[0m \u001b[0mis_datetime64tz_dtype\u001b[0m\u001b[1;33m(\u001b[0m\u001b[0marr\u001b[0m\u001b[1;33m)\u001b[0m \u001b[1;32melse\u001b[0m \u001b[0marr\u001b[0m\u001b[1;33m.\u001b[0m\u001b[0mcopy\u001b[0m\u001b[1;33m(\u001b[0m\u001b[1;33m)\u001b[0m \u001b[1;32mfor\u001b[0m \u001b[0marr\u001b[0m \u001b[1;32min\u001b[0m \u001b[0marrays\u001b[0m\u001b[1;33m\u001b[0m\u001b[1;33m\u001b[0m\u001b[0m\n\u001b[0;32m    282\u001b[0m         ]\n\u001b[1;32m--> 283\u001b[1;33m     \u001b[1;32mreturn\u001b[0m \u001b[0marrays_to_mgr\u001b[0m\u001b[1;33m(\u001b[0m\u001b[0marrays\u001b[0m\u001b[1;33m,\u001b[0m \u001b[0mdata_names\u001b[0m\u001b[1;33m,\u001b[0m \u001b[0mindex\u001b[0m\u001b[1;33m,\u001b[0m \u001b[0mcolumns\u001b[0m\u001b[1;33m,\u001b[0m \u001b[0mdtype\u001b[0m\u001b[1;33m=\u001b[0m\u001b[0mdtype\u001b[0m\u001b[1;33m)\u001b[0m\u001b[1;33m\u001b[0m\u001b[1;33m\u001b[0m\u001b[0m\n\u001b[0m\u001b[0;32m    284\u001b[0m \u001b[1;33m\u001b[0m\u001b[0m\n\u001b[0;32m    285\u001b[0m \u001b[1;33m\u001b[0m\u001b[0m\n",
      "\u001b[1;32m~\\AppData\\Roaming\\Python\\Python37\\site-packages\\pandas\\core\\internals\\construction.py\u001b[0m in \u001b[0;36marrays_to_mgr\u001b[1;34m(arrays, arr_names, index, columns, dtype, verify_integrity)\u001b[0m\n\u001b[0;32m     76\u001b[0m         \u001b[1;31m# figure out the index, if necessary\u001b[0m\u001b[1;33m\u001b[0m\u001b[1;33m\u001b[0m\u001b[1;33m\u001b[0m\u001b[0m\n\u001b[0;32m     77\u001b[0m         \u001b[1;32mif\u001b[0m \u001b[0mindex\u001b[0m \u001b[1;32mis\u001b[0m \u001b[1;32mNone\u001b[0m\u001b[1;33m:\u001b[0m\u001b[1;33m\u001b[0m\u001b[1;33m\u001b[0m\u001b[0m\n\u001b[1;32m---> 78\u001b[1;33m             \u001b[0mindex\u001b[0m \u001b[1;33m=\u001b[0m \u001b[0mextract_index\u001b[0m\u001b[1;33m(\u001b[0m\u001b[0marrays\u001b[0m\u001b[1;33m)\u001b[0m\u001b[1;33m\u001b[0m\u001b[1;33m\u001b[0m\u001b[0m\n\u001b[0m\u001b[0;32m     79\u001b[0m         \u001b[1;32melse\u001b[0m\u001b[1;33m:\u001b[0m\u001b[1;33m\u001b[0m\u001b[1;33m\u001b[0m\u001b[0m\n\u001b[0;32m     80\u001b[0m             \u001b[0mindex\u001b[0m \u001b[1;33m=\u001b[0m \u001b[0mensure_index\u001b[0m\u001b[1;33m(\u001b[0m\u001b[0mindex\u001b[0m\u001b[1;33m)\u001b[0m\u001b[1;33m\u001b[0m\u001b[1;33m\u001b[0m\u001b[0m\n",
      "\u001b[1;32m~\\AppData\\Roaming\\Python\\Python37\\site-packages\\pandas\\core\\internals\\construction.py\u001b[0m in \u001b[0;36mextract_index\u001b[1;34m(data)\u001b[0m\n\u001b[0;32m    395\u001b[0m             \u001b[0mlengths\u001b[0m \u001b[1;33m=\u001b[0m \u001b[0mlist\u001b[0m\u001b[1;33m(\u001b[0m\u001b[0mset\u001b[0m\u001b[1;33m(\u001b[0m\u001b[0mraw_lengths\u001b[0m\u001b[1;33m)\u001b[0m\u001b[1;33m)\u001b[0m\u001b[1;33m\u001b[0m\u001b[1;33m\u001b[0m\u001b[0m\n\u001b[0;32m    396\u001b[0m             \u001b[1;32mif\u001b[0m \u001b[0mlen\u001b[0m\u001b[1;33m(\u001b[0m\u001b[0mlengths\u001b[0m\u001b[1;33m)\u001b[0m \u001b[1;33m>\u001b[0m \u001b[1;36m1\u001b[0m\u001b[1;33m:\u001b[0m\u001b[1;33m\u001b[0m\u001b[1;33m\u001b[0m\u001b[0m\n\u001b[1;32m--> 397\u001b[1;33m                 \u001b[1;32mraise\u001b[0m \u001b[0mValueError\u001b[0m\u001b[1;33m(\u001b[0m\u001b[1;34m\"arrays must all be same length\"\u001b[0m\u001b[1;33m)\u001b[0m\u001b[1;33m\u001b[0m\u001b[1;33m\u001b[0m\u001b[0m\n\u001b[0m\u001b[0;32m    398\u001b[0m \u001b[1;33m\u001b[0m\u001b[0m\n\u001b[0;32m    399\u001b[0m             \u001b[1;32mif\u001b[0m \u001b[0mhave_dicts\u001b[0m\u001b[1;33m:\u001b[0m\u001b[1;33m\u001b[0m\u001b[1;33m\u001b[0m\u001b[0m\n",
      "\u001b[1;31mValueError\u001b[0m: arrays must all be same length"
     ]
    }
   ],
   "source": [
    "for param_idx, param_label in enumerate(['beta', 'lr']):\n",
    "    simulated_param = subj_dict['params'][:,param_idx]\n",
    "    fitted_params = real_params[:,param_idx]\n",
    "    plotting.plot_scatter(simulated_param, f'Simulated {param_label}', \n",
    "                 fitted_params, f'Estimated {param_label}')"
   ]
  },
  {
   "cell_type": "code",
   "execution_count": 120,
   "metadata": {},
   "outputs": [],
   "source": [
    "# import scipy.io\n",
    "\n",
    "# # Save m and h to a .mat file\n",
    "# data = {'m': m, 'h': h}\n",
    "# scipy.io.savemat('Mean_Hess_example.mat', data)\n",
    "\n",
    "# curmu,cursigma,flagcov,covmat_out = compGauss_ms(m,h,2)\n",
    "# print(curmu,cursigma,flagcov,covmat_out )"
   ]
  }
 ],
 "metadata": {
  "kernelspec": {
   "display_name": "pymc",
   "language": "python",
   "name": "python3"
  },
  "language_info": {
   "codemirror_mode": {
    "name": "ipython",
    "version": 3
   },
   "file_extension": ".py",
   "mimetype": "text/x-python",
   "name": "python",
   "nbconvert_exporter": "python",
   "pygments_lexer": "ipython3",
   "version": "3.7.10"
  },
  "orig_nbformat": 4
 },
 "nbformat": 4,
 "nbformat_minor": 2
}
